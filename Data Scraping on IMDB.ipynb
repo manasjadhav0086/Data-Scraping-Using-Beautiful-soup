{
 "cells": [
  {
   "cell_type": "code",
   "execution_count": 115,
   "id": "36c8b1cc-d5e6-4df2-8df4-0bcc719d7b8e",
   "metadata": {},
   "outputs": [],
   "source": [
    "import requests\n",
    "from bs4 import BeautifulSoup\n",
    "import pandas as pd"
   ]
  },
  {
   "cell_type": "code",
   "execution_count": 116,
   "id": "86db7352-f557-43f6-828c-65c3bfa48a98",
   "metadata": {},
   "outputs": [],
   "source": [
    "headers = {\n",
    "    'user-agent': 'Mozilla/5.0 (Windows NT 10.0; Win64; x64) AppleWebKit/537.36 (KHTML, like Gecko) Chrome/131.0.0.0 Safari/537.36'\n",
    "}\n",
    "response = requests.get(\"https://www.imdb.com/chart/top/?ref_=nv_mv_250\", headers=headers)\n"
   ]
  },
  {
   "cell_type": "code",
   "execution_count": 117,
   "id": "78e29de1-9b7c-483b-a0d7-bae43fa885e3",
   "metadata": {},
   "outputs": [
    {
     "data": {
      "text/plain": [
       "<Response [200]>"
      ]
     },
     "execution_count": 117,
     "metadata": {},
     "output_type": "execute_result"
    }
   ],
   "source": [
    "response"
   ]
  },
  {
   "cell_type": "code",
   "execution_count": 118,
   "id": "dceb4f4c-803d-4cf5-932e-7dffd7996bb8",
   "metadata": {},
   "outputs": [],
   "source": [
    "soup = BeautifulSoup(response.text, 'html.parser')"
   ]
  },
  {
   "cell_type": "code",
   "execution_count": 119,
   "id": "b9e21854-5a7c-40c3-a301-4d93f6e7f919",
   "metadata": {},
   "outputs": [],
   "source": [
    "box = soup.find('li', class_ = 'ipc-metadata-list-summary-item')"
   ]
  },
  {
   "cell_type": "code",
   "execution_count": 120,
   "id": "73786bb9-f0b2-4db0-a4f3-fb53e79f17a9",
   "metadata": {},
   "outputs": [
    {
     "data": {
      "text/plain": [
       "'1. The Shawshank Redemption'"
      ]
     },
     "execution_count": 120,
     "metadata": {},
     "output_type": "execute_result"
    }
   ],
   "source": [
    "box.find('h3', class_ = 'ipc-title__text').text"
   ]
  },
  {
   "cell_type": "code",
   "execution_count": 121,
   "id": "4a784dac-ab82-4be4-a930-aa91961500d1",
   "metadata": {},
   "outputs": [
    {
     "data": {
      "text/plain": [
       "'1994'"
      ]
     },
     "execution_count": 121,
     "metadata": {},
     "output_type": "execute_result"
    }
   ],
   "source": [
    "box.find('span', class_ = 'sc-300a8231-7').text"
   ]
  },
  {
   "cell_type": "code",
   "execution_count": 122,
   "id": "2b97502c-abb6-4526-b408-d5e52147cca2",
   "metadata": {},
   "outputs": [
    {
     "data": {
      "text/plain": [
       "'9.3'"
      ]
     },
     "execution_count": 122,
     "metadata": {},
     "output_type": "execute_result"
    }
   ],
   "source": [
    "box.find('span', class_ =\"ipc-rating-star--rating\").text"
   ]
  },
  {
   "cell_type": "code",
   "execution_count": 123,
   "id": "214fb33e-ac9f-4b29-8dc4-0f8f249063b7",
   "metadata": {},
   "outputs": [
    {
     "data": {
      "text/plain": [
       "25"
      ]
     },
     "execution_count": 123,
     "metadata": {},
     "output_type": "execute_result"
    }
   ],
   "source": [
    "movies = soup.find_all('li', class_ = 'ipc-metadata-list-summary-item')\n",
    "len(movies)"
   ]
  },
  {
   "cell_type": "code",
   "execution_count": 124,
   "id": "d7868901-64a1-401f-ab83-7f400b0fe8c2",
   "metadata": {},
   "outputs": [],
   "source": [
    "title = []\n",
    "year = []\n",
    "duration = []\n",
    "rating = []\n",
    "no_of_votes = []\n",
    "for movie in movies:\n",
    "    t= movie.find('h3', class_ = 'ipc-title__text').text\n",
    "    title.append(t)\n",
    "    y = movie.find_all('span', class_ = 'sc-300a8231-7')\n",
    "    year.append(y[0].text)\n",
    "    duration.append(y[1].text)\n",
    "    r = movie.find('span', class_ =\"ipc-rating-star--rating\").text\n",
    "    rating.append(r)\n",
    "    nov = movie.find('span', class_ = 'ipc-rating-star--voteCount').text\n",
    "    no_of_votes.append(nov)"
   ]
  },
  {
   "cell_type": "code",
   "execution_count": 125,
   "id": "f8570941-4c1a-4885-bcbd-74ee0f98b1aa",
   "metadata": {},
   "outputs": [],
   "source": [
    "data = {'Title' : title, 'Year': year, 'Duration': duration, 'Rating' : rating, 'No of votes' : no_of_votes}"
   ]
  },
  {
   "cell_type": "code",
   "execution_count": 126,
   "id": "135d5ac5-db8e-4d3b-94ea-a9e92861786b",
   "metadata": {},
   "outputs": [
    {
     "data": {
      "text/html": [
       "<div>\n",
       "<style scoped>\n",
       "    .dataframe tbody tr th:only-of-type {\n",
       "        vertical-align: middle;\n",
       "    }\n",
       "\n",
       "    .dataframe tbody tr th {\n",
       "        vertical-align: top;\n",
       "    }\n",
       "\n",
       "    .dataframe thead th {\n",
       "        text-align: right;\n",
       "    }\n",
       "</style>\n",
       "<table border=\"1\" class=\"dataframe\">\n",
       "  <thead>\n",
       "    <tr style=\"text-align: right;\">\n",
       "      <th></th>\n",
       "      <th>Title</th>\n",
       "      <th>Year</th>\n",
       "      <th>Duration</th>\n",
       "      <th>Rating</th>\n",
       "      <th>No of votes</th>\n",
       "    </tr>\n",
       "  </thead>\n",
       "  <tbody>\n",
       "    <tr>\n",
       "      <th>0</th>\n",
       "      <td>1. The Shawshank Redemption</td>\n",
       "      <td>1994</td>\n",
       "      <td>2h 22m</td>\n",
       "      <td>9.3</td>\n",
       "      <td>(3M)</td>\n",
       "    </tr>\n",
       "    <tr>\n",
       "      <th>1</th>\n",
       "      <td>2. The Godfather</td>\n",
       "      <td>1972</td>\n",
       "      <td>2h 55m</td>\n",
       "      <td>9.2</td>\n",
       "      <td>(2.1M)</td>\n",
       "    </tr>\n",
       "    <tr>\n",
       "      <th>2</th>\n",
       "      <td>3. The Dark Knight</td>\n",
       "      <td>2008</td>\n",
       "      <td>2h 32m</td>\n",
       "      <td>9.0</td>\n",
       "      <td>(3M)</td>\n",
       "    </tr>\n",
       "    <tr>\n",
       "      <th>3</th>\n",
       "      <td>4. The Godfather: Part II</td>\n",
       "      <td>1974</td>\n",
       "      <td>3h 22m</td>\n",
       "      <td>9.0</td>\n",
       "      <td>(1.4M)</td>\n",
       "    </tr>\n",
       "    <tr>\n",
       "      <th>4</th>\n",
       "      <td>5. 12 Angry Men</td>\n",
       "      <td>1957</td>\n",
       "      <td>1h 36m</td>\n",
       "      <td>9.0</td>\n",
       "      <td>(897K)</td>\n",
       "    </tr>\n",
       "  </tbody>\n",
       "</table>\n",
       "</div>"
      ],
      "text/plain": [
       "                         Title  Year Duration Rating No of votes\n",
       "0  1. The Shawshank Redemption  1994   2h 22m    9.3        (3M)\n",
       "1             2. The Godfather  1972   2h 55m    9.2      (2.1M)\n",
       "2           3. The Dark Knight  2008   2h 32m    9.0        (3M)\n",
       "3    4. The Godfather: Part II  1974   3h 22m    9.0      (1.4M)\n",
       "4              5. 12 Angry Men  1957   1h 36m    9.0      (897K)"
      ]
     },
     "execution_count": 126,
     "metadata": {},
     "output_type": "execute_result"
    }
   ],
   "source": [
    "df = pd.DataFrame(data)\n",
    "df.head()"
   ]
  },
  {
   "cell_type": "code",
   "execution_count": 127,
   "id": "8449abb0-4052-438f-87ff-d37bcaec4c02",
   "metadata": {},
   "outputs": [],
   "source": [
    "df['No of votes'] = df['No of votes'].str.replace(r'[^\\w\\s]', '', regex=True)"
   ]
  },
  {
   "cell_type": "code",
   "execution_count": 130,
   "id": "c6068fc4-bb6c-4e9b-be1d-9b13f922f296",
   "metadata": {},
   "outputs": [],
   "source": [
    "df['Title'] = df['Title'].str.replace(r'^\\w+\\.\\s', '', regex=True)"
   ]
  },
  {
   "cell_type": "code",
   "execution_count": 132,
   "id": "73b8129e-bae1-4f8f-a428-68eba1675d51",
   "metadata": {},
   "outputs": [
    {
     "data": {
      "text/html": [
       "<div>\n",
       "<style scoped>\n",
       "    .dataframe tbody tr th:only-of-type {\n",
       "        vertical-align: middle;\n",
       "    }\n",
       "\n",
       "    .dataframe tbody tr th {\n",
       "        vertical-align: top;\n",
       "    }\n",
       "\n",
       "    .dataframe thead th {\n",
       "        text-align: right;\n",
       "    }\n",
       "</style>\n",
       "<table border=\"1\" class=\"dataframe\">\n",
       "  <thead>\n",
       "    <tr style=\"text-align: right;\">\n",
       "      <th></th>\n",
       "      <th>Title</th>\n",
       "      <th>Year</th>\n",
       "      <th>Duration</th>\n",
       "      <th>Rating</th>\n",
       "      <th>No of votes</th>\n",
       "    </tr>\n",
       "  </thead>\n",
       "  <tbody>\n",
       "    <tr>\n",
       "      <th>0</th>\n",
       "      <td>The Shawshank Redemption</td>\n",
       "      <td>1994</td>\n",
       "      <td>2h 22m</td>\n",
       "      <td>9.3</td>\n",
       "      <td>3M</td>\n",
       "    </tr>\n",
       "    <tr>\n",
       "      <th>1</th>\n",
       "      <td>The Godfather</td>\n",
       "      <td>1972</td>\n",
       "      <td>2h 55m</td>\n",
       "      <td>9.2</td>\n",
       "      <td>21M</td>\n",
       "    </tr>\n",
       "    <tr>\n",
       "      <th>2</th>\n",
       "      <td>The Dark Knight</td>\n",
       "      <td>2008</td>\n",
       "      <td>2h 32m</td>\n",
       "      <td>9.0</td>\n",
       "      <td>3M</td>\n",
       "    </tr>\n",
       "    <tr>\n",
       "      <th>3</th>\n",
       "      <td>The Godfather: Part II</td>\n",
       "      <td>1974</td>\n",
       "      <td>3h 22m</td>\n",
       "      <td>9.0</td>\n",
       "      <td>14M</td>\n",
       "    </tr>\n",
       "    <tr>\n",
       "      <th>4</th>\n",
       "      <td>12 Angry Men</td>\n",
       "      <td>1957</td>\n",
       "      <td>1h 36m</td>\n",
       "      <td>9.0</td>\n",
       "      <td>897K</td>\n",
       "    </tr>\n",
       "  </tbody>\n",
       "</table>\n",
       "</div>"
      ],
      "text/plain": [
       "                      Title  Year Duration Rating No of votes\n",
       "0  The Shawshank Redemption  1994   2h 22m    9.3          3M\n",
       "1             The Godfather  1972   2h 55m    9.2         21M\n",
       "2           The Dark Knight  2008   2h 32m    9.0          3M\n",
       "3    The Godfather: Part II  1974   3h 22m    9.0         14M\n",
       "4              12 Angry Men  1957   1h 36m    9.0        897K"
      ]
     },
     "execution_count": 132,
     "metadata": {},
     "output_type": "execute_result"
    }
   ],
   "source": [
    "df.head()"
   ]
  },
  {
   "cell_type": "code",
   "execution_count": 133,
   "id": "908c0397-5e4a-40c1-8900-aa16f6dfc688",
   "metadata": {},
   "outputs": [
    {
     "name": "stdout",
     "output_type": "stream",
     "text": [
      "CSV file saved sucessfully\n"
     ]
    }
   ],
   "source": [
    "df.to_csv('IMDB.csv', index=False)\n",
    "print('CSV file saved sucessfully')"
   ]
  },
  {
   "cell_type": "code",
   "execution_count": null,
   "id": "09114724-267c-4abd-9fda-11e2b1044eb0",
   "metadata": {},
   "outputs": [],
   "source": []
  }
 ],
 "metadata": {
  "kernelspec": {
   "display_name": "Python 3 (ipykernel)",
   "language": "python",
   "name": "python3"
  },
  "language_info": {
   "codemirror_mode": {
    "name": "ipython",
    "version": 3
   },
   "file_extension": ".py",
   "mimetype": "text/x-python",
   "name": "python",
   "nbconvert_exporter": "python",
   "pygments_lexer": "ipython3",
   "version": "3.12.4"
  }
 },
 "nbformat": 4,
 "nbformat_minor": 5
}
